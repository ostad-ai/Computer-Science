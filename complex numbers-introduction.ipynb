{
 "cells": [
  {
   "cell_type": "markdown",
   "id": "3953dd72",
   "metadata": {},
   "source": [
    "## Complex numbers: Introduction\n",
    "### شماره‌های پیجیده: آشنایی\n",
    "By Hamed Shah-Hosseini\n",
    "<br>The whole code:\n",
    "    https://github.com/ostad-ai/Computer-Science\n",
    "<br> Description in English:\n",
    "https://www.pinterest.com/HamedShahHosseini/computer-science/background-knowledge/"
   ]
  },
  {
   "cell_type": "code",
   "execution_count": 1,
   "id": "0f2b64f3",
   "metadata": {},
   "outputs": [],
   "source": [
    "from math import sin,cos,pi,e,sqrt,atan2\n",
    "from cmath import polar,rect\n",
    "from matplotlib import pyplot as plt"
   ]
  },
  {
   "cell_type": "code",
   "execution_count": 2,
   "id": "e95af27f",
   "metadata": {},
   "outputs": [
    {
     "name": "stdout",
     "output_type": "stream",
     "text": [
      "3+5j is equal to complex(3,5)\n"
     ]
    }
   ],
   "source": [
    "# define complex numbers: by literal, by complex()\n",
    "z1=3+5j\n",
    "z2=complex(3,5)\n",
    "if z1==z2:\n",
    "    print('3+5j is equal to complex(3,5)')"
   ]
  },
  {
   "cell_type": "markdown",
   "id": "61ca5d28",
   "metadata": {},
   "source": [
    "Arithmetic operators +,-,*,/, and ** support complex numbers too"
   ]
  },
  {
   "cell_type": "code",
   "execution_count": 3,
   "id": "5a4384fb",
   "metadata": {},
   "outputs": [
    {
     "name": "stdout",
     "output_type": "stream",
     "text": [
      "Numbers:(2+5j),(3+4j)\n",
      "Addition:(5+9j)\n",
      "Subtraction:(-1+1j)\n",
      "Multiplication:(-14+23j)\n",
      "Division:(1.04+0.28j)\n",
      "power,z1^2:(-21+20j)\n"
     ]
    }
   ],
   "source": [
    "#arithmetic with complex numbers\n",
    "z1=2+5j; z2=3+4j\n",
    "print(f'Numbers:{z1},{z2}')\n",
    "print(f'Addition:{z1+z2}')\n",
    "print(f'Subtraction:{z1-z2}')\n",
    "print(f'Multiplication:{z1*z2}')\n",
    "print(f'Division:{z1/z2}')\n",
    "print(f'power,z1^2:{z1**2}')"
   ]
  },
  {
   "cell_type": "markdown",
   "id": "f2206170",
   "metadata": {},
   "source": [
    "For complex number $z=x+iy$, the real part is $x$, and the imaginary part is $y$\n",
    "<br> The conjugate of z is the complex number $z_{conjugate}=x-iy$"
   ]
  },
  {
   "cell_type": "code",
   "execution_count": 4,
   "id": "21a12dcf",
   "metadata": {},
   "outputs": [
    {
     "name": "stdout",
     "output_type": "stream",
     "text": [
      "Original: (8+3j). Its real: 8.0, imaginary:3.0\n",
      "Conjugate:(8-3j). Its real: 8.0, imaginary:-3.0\n"
     ]
    }
   ],
   "source": [
    "# real, imaginary, and conjugte \n",
    "z=8+3j; z_conj=z.conjugate()\n",
    "print(f'Original: {z}. Its real: {z.real}, imaginary:{z.imag}')\n",
    "print(f'Conjugate:{z_conj}. Its real: {z_conj.real}, imaginary:{z_conj.imag}')"
   ]
  },
  {
   "cell_type": "markdown",
   "id": "dedfd276",
   "metadata": {},
   "source": [
    "A point $z=x+iy$ can be represented in polar coordinates:\n",
    "<br> $x=r\\; cos\\theta$, $y=r\\; sin\\theta$\n",
    "<br> where modulus of $z$, $r$, is computed by: $r=\\sqrt{x^2+y^2}$; and argument of $z$, $\\theta$, is obtained from: $tan\\theta=\\frac{y}{x}$\n",
    "<br> As a result point $z=x+iy$ can be written in polar form as: $z=r(cos\\theta+isin\\theta)$\n",
    "<br> In practice, we use $atan2$ instead of $atan$ in Python."
   ]
  },
  {
   "cell_type": "code",
   "execution_count": 5,
   "id": "06ed5f11",
   "metadata": {},
   "outputs": [
    {
     "name": "stdout",
     "output_type": "stream",
     "text": [
      "(2+5j) to polar: 5.385,1.190\n"
     ]
    }
   ],
   "source": [
    "z=2+5j; r,teta=polar(z)\n",
    "print(f'{z} to polar: {r:.3f},{teta:.3f}')"
   ]
  },
  {
   "cell_type": "code",
   "execution_count": 6,
   "id": "a92b3656",
   "metadata": {},
   "outputs": [
    {
     "name": "stdout",
     "output_type": "stream",
     "text": [
      "z=(3+5j) to polar form: (r=5.831,teta=1.030)\n",
      "z=(5.831,1.030) to rectangular form: z=3.00+5.00j\n"
     ]
    }
   ],
   "source": [
    "# we could use polar() and rect() from module cmath\n",
    "# from cmath import polar,rect\n",
    "# r,teta=polar(z)\n",
    "#z_rect=rect(r,teta)\n",
    "#polar from scratch\n",
    "def to_polar(z):\n",
    "    x,y=z.real,z.imag\n",
    "    r=sqrt(x**2+y**2) # could use r=abs(z)\n",
    "    teta=atan2(y,x)\n",
    "    return r,teta\n",
    "\n",
    "#rect from scratch\n",
    "def to_rect(r,teta):\n",
    "    x=r*cos(teta)\n",
    "    y=r*sin(teta)\n",
    "    return complex(x,y)\n",
    "\n",
    "z=3+5j\n",
    "r,teta=to_polar(z)\n",
    "z_rect=to_rect(r,teta)\n",
    "print(f'z={z} to polar form: (r={r:.3f},teta={teta:.3f})')\n",
    "print(f'z=({r:.3f},{teta:.3f}) to rectangular form: z={z_rect:.2f}')"
   ]
  },
  {
   "cell_type": "markdown",
   "id": "ed481800",
   "metadata": {},
   "source": [
    "**Multiplication in polar forms:**\n",
    "For two complex numbers: \n",
    "<br>$z_1=r_1(cos\\theta_1+i\\,sin\\theta_1)$\n",
    "<br>$z_2=r_2(cos\\theta_2+i\\,sin\\theta_2)$\n",
    "<br> we can show that their multiplication:\n",
    "<br>$z_1z_2=r_1r_2(cos(\\theta_1+\\theta_2)+i\\,sin(\\theta_1+\\theta_2))$"
   ]
  },
  {
   "cell_type": "code",
   "execution_count": 7,
   "id": "16de0b28",
   "metadata": {},
   "outputs": [
    {
     "name": "stdout",
     "output_type": "stream",
     "text": [
      "With operator *:  z1*z2=8.000+38.000j\n",
      "With polar forms: z1*z2=8.000+38.000j\n"
     ]
    }
   ],
   "source": [
    "# multiplication in polar forms from scratch\n",
    "def cmult(z1,z2,format='rect'):\n",
    "    r1,teta1=polar(z1); r2,teta2=polar(z2)\n",
    "    r,teta=r1*r2,teta1+teta2\n",
    "    if format=='rect': return rect(r,teta)\n",
    "    else: return r,teta\n",
    "z1,z2=5+2j,4+6j\n",
    "print(f'With operator *:  z1*z2={z1*z2:.3f}')\n",
    "print(f'With polar forms: z1*z2={cmult(z1,z2):.3f}')"
   ]
  },
  {
   "cell_type": "markdown",
   "id": "e6f18688",
   "metadata": {},
   "source": [
    "From multiplication in polar form, we can prove that for $z=r(cos\\theta+isin\\theta)$ we can get the nth power by:\n",
    "<br>$z^n=r^n(cos\\,n\\theta+isin\\,n\\theta)$ for $n=0,\\pm1,\\pm2,...$\n",
    "<br> From above we get **De Moivre's formula**:\n",
    "<br>$(cos\\theta+isin\\theta)^n=cos\\,n\\theta+isin\\,n\\theta$"
   ]
  },
  {
   "cell_type": "code",
   "execution_count": 8,
   "id": "8109e76a",
   "metadata": {},
   "outputs": [
    {
     "name": "stdout",
     "output_type": "stream",
     "text": [
      "Power: (-46+9j),-46.000+9.000j\n"
     ]
    }
   ],
   "source": [
    "# using De Moivre's formula for powers in interger\n",
    "def moivre(z,n=2):\n",
    "    r,teta=polar(z)\n",
    "    return rect(r**n,n*teta)\n",
    "z,n=2+3j,3\n",
    "print(f'Power: {z**n},{moivre(z,n):.3f}')"
   ]
  },
  {
   "cell_type": "markdown",
   "id": "cb55c46b",
   "metadata": {},
   "source": [
    "Multiplication in complex plane is like  a rotation. Having numbers $z_1$ and $z_2$:\n",
    "<br>$z_1=r_1(cos\\theta_1+i\\,sin\\theta_1)$\n",
    "<br>$z_2=r_2(cos\\theta_2+i\\,sin\\theta_2)$\n",
    "<br>Their product is like getting point $z_1$ rotated by angle $\\theta_2$ around origin:\n",
    "<br>$z_1z_2=r_1r_2(cos(\\theta_1+\\theta_2)+i\\,sin(\\theta_1+\\theta_2))$\n",
    "<br> If we represent $z_1=x_1+iy_1$ and $z_2=x_2+iy_2$ in rectangular forms, their product can be seen as matrix multiplication:<br>\n",
    "$\n",
    "    \\begin{bmatrix}\n",
    "    x_2 & -y_2\\\\\n",
    "    y_2 & x_2\\\\    \n",
    "  \\end{bmatrix}\n",
    "  \\begin{bmatrix}\n",
    "  x_1\\\\y_1\n",
    "  \\end{bmatrix}\n",
    "  =\\begin{bmatrix}\n",
    "  x_1x_2-y_1y_2\\\\\n",
    "  x_1y_2+x_2y_1\n",
    "  \\end{bmatrix}\n",
    "$\n",
    "<br>The matrix on the left side may be viewed as a rotation matrix."
   ]
  },
  {
   "cell_type": "code",
   "execution_count": 9,
   "id": "f4c82c0b",
   "metadata": {},
   "outputs": [
    {
     "data": {
      "image/png": "[encoded data removed]",
      "text/plain": [
       "<Figure size 640x480 with 1 Axes>"
      ]
     },
     "metadata": {},
     "output_type": "display_data"
    }
   ],
   "source": [
    "# example of multiplication as rotation\n",
    "\n",
    "def spiral(z,N=200,rot=(1.02,pi/20)):\n",
    "    zs=[]; r,teta=rot[0],rot[1]\n",
    "    z_rot=r*complex(cos(teta),sin(teta))\n",
    "    for n in range(N):\n",
    "        z*=z_rot; zs.append([z.real,z.imag])\n",
    "    return zs\n",
    "z0=.001; xs,ys=zip(*spiral(z0))\n",
    "plt.plot(xs,ys,'-')\n",
    "plt.axis('off'); plt.show()"
   ]
  },
  {
   "cell_type": "markdown",
   "id": "444c8417",
   "metadata": {},
   "source": [
    "Multiplication in polar form:\n",
    "Again we hve numbers $z_1$ and $z_2$:\n",
    "<br>$z_1=r_1(cos\\theta_1+i\\,sin\\theta_1)$\n",
    "<br>$z_2=r_2(cos\\theta_2+i\\,sin\\theta_2)$\n",
    "<br>Then ,we can show that:\n",
    "<br>$\\left|\\frac{z_1}{z_2}\\right|=\\frac{\\left|z_1 \\right|}{\\left|z_2 \\right|}$ \n",
    "and $arg\\frac{z_1}{z_2}=arg z_1-arg z_2$\n",
    "<br>Thus, the divison in polar form becomes:\n",
    "<br>$\\frac{z_1}{z_2}=\\frac{r_1}{r_2}(cos(\\theta_1-\\theta_2)+i\\,sin(\\theta_1-\\theta_2))$"
   ]
  },
  {
   "cell_type": "code",
   "execution_count": 10,
   "id": "1bf7c55f",
   "metadata": {},
   "outputs": [
    {
     "name": "stdout",
     "output_type": "stream",
     "text": [
      "With operator /: z1/z2=0.615-0.423j\n",
      "With polar form: z1/z2=0.615-0.423j\n"
     ]
    }
   ],
   "source": [
    "# division in polar forms from scratch\n",
    "def cdiv(z1,z2,format='rect'):\n",
    "    r1,teta1=polar(z1); r2,teta2=polar(z2)\n",
    "    r,teta=r1/r2,teta1-teta2\n",
    "    if format=='rect': return rect(r,teta)\n",
    "    else: return r,teta\n",
    "z1,z2=5+2j,4+6j\n",
    "print(f'With operator /: z1/z2={z1/z2:.3f}')\n",
    "print(f'With polar form: z1/z2={cdiv(z1,z2):.3f}')"
   ]
  },
  {
   "cell_type": "markdown",
   "id": "673d8fd1",
   "metadata": {},
   "source": [
    "Euler's formula says that for any real number $\\theta$, we have:\n",
    "<br> $e^{i\\theta}=cos\\theta+i\\,sin\\theta$\n",
    "<br>Thus, complex number $z=r(cos\\theta+ i\\,sin\\theta)$ in polar form can be written as:\n",
    "<br> $z=re^{i\\theta}$"
   ]
  },
  {
   "cell_type": "code",
   "execution_count": 11,
   "id": "d3988b76",
   "metadata": {},
   "outputs": [
    {
     "data": {
      "image/png": "[encoded data removed]",
      "text/plain": [
       "<Figure size 640x480 with 1 Axes>"
      ]
     },
     "metadata": {},
     "output_type": "display_data"
    }
   ],
   "source": [
    "zs=[];N=7\n",
    "for k in range(N):\n",
    "    z=e**(2j*pi*k/N)\n",
    "    zs.append((z.real,z.imag))\n",
    "zs.append(zs[0]); xs,ys=zip(*zs)\n",
    "plt.plot(xs,ys,'-')\n",
    "plt.axis('off');plt.show()"
   ]
  },
  {
   "cell_type": "code",
   "execution_count": null,
   "id": "ccab69f9",
   "metadata": {},
   "outputs": [],
   "source": []
  }
 ],
 "metadata": {
  "kernelspec": {
   "display_name": "Python 3 (ipykernel)",
   "language": "python",
   "name": "python3"
  },
  "language_info": {
   "codemirror_mode": {
    "name": "ipython",
    "version": 3
   },
   "file_extension": ".py",
   "mimetype": "text/x-python",
   "name": "python",
   "nbconvert_exporter": "python",
   "pygments_lexer": "ipython3",
   "version": "3.11.1"
  }
 },
 "nbformat": 4,
 "nbformat_minor": 5
}
