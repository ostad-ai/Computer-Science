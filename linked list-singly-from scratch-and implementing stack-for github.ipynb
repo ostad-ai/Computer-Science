{
 "cells": [
  {
   "cell_type": "markdown",
   "id": "9530ef8f",
   "metadata": {},
   "source": [
    "## Computer Science: Singly Linked Lists from scratch\n",
    "by Hamed Shah-Hosseini\n",
    "<br>The whole code: https://github.com/ostad-ai/Computer-Science\n",
    "<br>Explanation in **English**: https://www.pinterest.com/HamedShahHosseini/Computer-Science\n",
    "<br>Explanation in **Persian**: https://www.instagram.com/words.persian"
   ]
  },
  {
   "cell_type": "markdown",
   "id": "848db911",
   "metadata": {},
   "source": [
    "A linked list is a data structure, which holds its elements in an orderly fashion. Elements of a linked list are called nodes, and each node in its basic form contains two fields, one for data, and one for pointer holding address to the next node.\n",
    "The first element of a linked list is called **head**<br>\n",
    "یک فهرست پیوندی؛ یک ساختار داده‌ای است، که سازه های آن به گونه چیده‌مند هستند\n",
    "<br>\n",
    "سازه‌های یک فهرست پیوندی، گره‌ها نامیده میشوند\n",
    "<br>\n",
    "هر گره، در ریخت پایه‌اش، دربردارنده دو میدان است؛ یکی برای داده، و دیگری برای پیکانه که نشانی به گره سپسی را در خود دارد"
   ]
  },
  {
   "cell_type": "markdown",
   "id": "c7e7f1ab",
   "metadata": {},
   "source": [
    "**Singly linked list:** here, every node points to its next node, \n",
    "which form a linear sequence of data.<br>\n",
    "**فهرست پیوندی تکی:** در اینجا، هر گره به سوی گره سپسی خود، پیکانه میاندازد\n",
    "<br>\n",
    "که یک دنباله تانه‌ای از داده را، ریخت میدهد"
   ]
  },
  {
   "cell_type": "code",
   "execution_count": 2,
   "id": "0e391aa1",
   "metadata": {},
   "outputs": [],
   "source": [
    "# let's create a basic node for linked lists\n",
    "# بیاییم یک گره پایه‌ای برای فهرستهای پیوندی بیافرینیم\n",
    "class Node:\n",
    "    def __init__(self,data,next=None):\n",
    "        self.data=data\n",
    "        self.next=next"
   ]
  },
  {
   "cell_type": "code",
   "execution_count": 3,
   "id": "95b390e3",
   "metadata": {},
   "outputs": [],
   "source": [
    "# A link list needs to hold its head, which is the address of its first node\n",
    "# یک فهرست پیوندی، نیاز دارد که سر خود، که نشانی گره نخست‌اش است، را نگهدارد\n",
    "class LinkedList:\n",
    "    def __init__(self):\n",
    "        self.head=None"
   ]
  },
  {
   "cell_type": "code",
   "execution_count": 4,
   "id": "ce44ca51",
   "metadata": {},
   "outputs": [
    {
     "name": "stdout",
     "output_type": "stream",
     "text": [
      "hello --> world --> bye --> "
     ]
    }
   ],
   "source": [
    "# Defining a simple singly linked list\n",
    "# and finally printing its data\n",
    "# شناساندن یک فهرست پیوندی تکی ساده، و سرانجام چاپ داده‌هایش\n",
    "hello=Node('hello'); world=Node('world')\n",
    "bye=Node('bye')\n",
    "mylink=LinkedList()\n",
    "mylink.head=hello; hello.next=world\n",
    "world.next=bye\n",
    "head=mylink.head\n",
    "# printing the data\n",
    "# چاپ کردن داده‎ها \n",
    "while head is not None:\n",
    "    print(head.data,'-->',end=' ')\n",
    "    head=head.next"
   ]
  },
  {
   "cell_type": "markdown",
   "id": "19cc7f2a",
   "metadata": {},
   "source": [
    "<hr>\n",
    "\n",
    "#### A link list to implement stack with push and pop\n",
    "#### یک فهرست پیوندی برای پیاده‌سازی یک پُشته با هل دادن و پَردادن"
   ]
  },
  {
   "cell_type": "code",
   "execution_count": 61,
   "id": "09dbb73a",
   "metadata": {},
   "outputs": [],
   "source": [
    "class LinkedList_Stack:\n",
    "    def __init__(self):\n",
    "        self.head=None\n",
    "    def push(self,data): #pushes at top\n",
    "        self.head=Node(data,self.head)\n",
    "    def pop(self):\n",
    "        if self.head is not None:\n",
    "            data=self.head.data\n",
    "            self.head=self.head.next\n",
    "            return data\n",
    "        else: \n",
    "            return None"
   ]
  },
  {
   "cell_type": "code",
   "execution_count": 62,
   "id": "35eac55f",
   "metadata": {},
   "outputs": [
    {
     "name": "stdout",
     "output_type": "stream",
     "text": [
      "hello, world, bye, "
     ]
    }
   ],
   "source": [
    "# An example of our stack\n",
    "# نمونه‌ای از پُشته ما\n",
    "mylinks=LinkedList_Stack()\n",
    "mylinks.push('bye')\n",
    "mylinks.push('world')\n",
    "mylinks.push('hello')\n",
    "while True:\n",
    "    temp=mylinks.pop()\n",
    "    if temp is None: \n",
    "        break\n",
    "    else:\n",
    "        print(temp,end=', ')"
   ]
  },
  {
   "cell_type": "code",
   "execution_count": null,
   "id": "ae6ad92c",
   "metadata": {},
   "outputs": [],
   "source": []
  }
 ],
 "metadata": {
  "kernelspec": {
   "display_name": "Python 3 (ipykernel)",
   "language": "python",
   "name": "python3"
  },
  "language_info": {
   "codemirror_mode": {
    "name": "ipython",
    "version": 3
   },
   "file_extension": ".py",
   "mimetype": "text/x-python",
   "name": "python",
   "nbconvert_exporter": "python",
   "pygments_lexer": "ipython3",
   "version": "3.8.10"
  }
 },
 "nbformat": 4,
 "nbformat_minor": 5
}
