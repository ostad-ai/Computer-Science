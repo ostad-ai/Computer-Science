{
 "cells": [
  {
   "cell_type": "markdown",
   "id": "5109d2ae",
   "metadata": {},
   "source": [
    "# Absolute error and relative error\n",
    "#### The absolute error $E_{true}$, knowing the true value $v_{true}$ and approximate value $v_{approx}$, is defined by:\n",
    "$E_{true}=v_{true}-v_{approx}$\n",
    "#### In contrast, the relative error $e_{true}$ is obtained by:\n",
    "$e_{true}=\\frac{E_{true}}{v_{true}}$\n",
    "#### If we don't have access to true value, we may use approximate values instead:\n",
    "$E_{approx}=v_{current_{approx}}-v_{previous_{approx}}$\n",
    "<br> $e_{approx}=\\frac{E_{approx}}{v_{currrent_{approx}}}$\n",
    "###### by Hamed Shah-Hosseini\n",
    "Explanation at: https://www.pinterest.com/HamedShahHosseini/\n",
    "<br>https://github.com/ostad-ai/Computer-Science"
   ]
  },
  {
   "cell_type": "code",
   "execution_count": 1,
   "id": "d7dc6fd6",
   "metadata": {},
   "outputs": [],
   "source": [
    "# importing the required functions\n",
    "from math import factorial,exp"
   ]
  },
  {
   "cell_type": "markdown",
   "id": "f656cea1",
   "metadata": {},
   "source": [
    "We use the following formula for computing the **exponetial function** from scratch:<br>\n",
    "$e^x=1+x+\\frac{x^2}{2!}+\\frac{x^3}{3!}+\\frac{x^4}{4!}+...$"
   ]
  },
  {
   "cell_type": "code",
   "execution_count": 2,
   "id": "e9dd314b",
   "metadata": {},
   "outputs": [],
   "source": [
    "# exponential function from the series above based on the required error\n",
    "def myexp(x,ea=.01,max_iter=100):\n",
    "    val_current=0.\n",
    "    for i in range(max_iter):\n",
    "        val_previous=val_current\n",
    "        val_current+=x**i/factorial(i)\n",
    "        if val_current!=0:\n",
    "            e_approx=1-val_previous/val_current\n",
    "        else:\n",
    "            e_approx=val_current-val_previous\n",
    "        if abs(e_approx)<ea:\n",
    "            break         \n",
    "    return [val_current,e_approx]"
   ]
  },
  {
   "cell_type": "code",
   "execution_count": 3,
   "id": "bfe8c8a7",
   "metadata": {},
   "outputs": [
    {
     "name": "stdout",
     "output_type": "stream",
     "text": [
      "true value of e^x at x=1.0: 2.718281828459045\n",
      "approx. value of e^x at x=1.0: 2.7166666666666663\n",
      "e_true: 0.0005941848175817777\n",
      "e_approx: 0.0030674846625766694\n"
     ]
    }
   ],
   "source": [
    "# example\n",
    "x=1.\n",
    "v_true=exp(x)\n",
    "v_approx,e_approx=myexp(x)\n",
    "print(f'true value of e^x at x={x}: {v_true}')\n",
    "print(f'approx. value of e^x at x={x}: {v_approx}')\n",
    "print(f'e_true: {1-v_approx/v_true}')\n",
    "print(f'e_approx: {e_approx}')"
   ]
  },
  {
   "cell_type": "code",
   "execution_count": null,
   "id": "7baf6e71",
   "metadata": {},
   "outputs": [],
   "source": []
  }
 ],
 "metadata": {
  "kernelspec": {
   "display_name": "Python 3 (ipykernel)",
   "language": "python",
   "name": "python3"
  },
  "language_info": {
   "codemirror_mode": {
    "name": "ipython",
    "version": 3
   },
   "file_extension": ".py",
   "mimetype": "text/x-python",
   "name": "python",
   "nbconvert_exporter": "python",
   "pygments_lexer": "ipython3",
   "version": "3.11.1"
  }
 },
 "nbformat": 4,
 "nbformat_minor": 5
}
