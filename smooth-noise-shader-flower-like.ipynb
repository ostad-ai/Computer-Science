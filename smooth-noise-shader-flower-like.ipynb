{
 "cells": [
  {
   "cell_type": "code",
   "execution_count": 1,
   "id": "e2cea1c3",
   "metadata": {},
   "outputs": [],
   "source": [
    "import numpy as np\n",
    "from matplotlib import pyplot as plt\n",
    "from numba import njit,extending,prange\n",
    "from math import sin,cos,pi,atan2,atan,sqrt\n",
    "from ipywidgets import interact"
   ]
  },
  {
   "cell_type": "code",
   "execution_count": 133,
   "id": "a32d4f17",
   "metadata": {},
   "outputs": [
    {
     "data": {
      "text/plain": [
       "array([0., 0.])"
      ]
     },
     "execution_count": 133,
     "metadata": {},
     "output_type": "execute_result"
    }
   ],
   "source": [
    "#smoothstep(10,11,np.array([2,3]))\n",
    "x=np.array([2,3])\n",
    "t=(x-10)/(11-10)\n",
    "t=npclip(t,0.,1.)\n",
    "t**2*(3-2*t)"
   ]
  },
  {
   "cell_type": "code",
   "execution_count": 3,
   "id": "d7fca2a8",
   "metadata": {},
   "outputs": [],
   "source": [
    "@njit\n",
    "def fract(p): #returns fractional part\n",
    "    return p-np.floor(p)\n",
    "@njit\n",
    "def clip(a, a_min, a_max):\n",
    "    out=0.\n",
    "    if a<a_min:\n",
    "        out=a_min\n",
    "    elif a>a_max:\n",
    "        out=a_max\n",
    "    else:\n",
    "        out=a\n",
    "    return out\n",
    "@njit('double[:](double[:], double,double)')\n",
    "def npclip(a, a_min, a_max):   \n",
    "    out=np.zeros_like(a)\n",
    "    for i in range(a.shape[0]):\n",
    "        if a[i] < a_min:\n",
    "            out[i] = a_min\n",
    "        elif a[i] > a_max:\n",
    "            out[i] = a_max\n",
    "        else:\n",
    "            out[i] = a[i]\n",
    "    return out\n",
    "\n",
    "@njit\n",
    "#pseudo-random function, returns value between [0.,1.]\n",
    "def hash(p):\n",
    "    return fract(np.sin(833443.123456*\\\n",
    "        p*np.array([234.45,436.378])))\n",
    "@njit\n",
    "def smoothstep1D(edge0,edge1,x):\n",
    "    assert edge0<edge1\n",
    "    t=(x-edge0)/(edge1-edge0)\n",
    "    t=clip(t,0.,1.)\n",
    "    return t**2*(3.-2*t)\n",
    "@njit\n",
    "def smoothstep2D(edge0,edge1,x):\n",
    "    assert edge0<edge1\n",
    "    t=(x-edge0)/(edge1-edge0)\n",
    "    t=npclip(t,0.,1.)\n",
    "    return t**2*(3.-2*t)\n",
    "# bilinear value noise function\n",
    "@njit\n",
    "def noise(st):\n",
    "    i = np.floor(st)\n",
    "    f = fract(st)\n",
    "    # Four corners of a 2D square\n",
    "    f00 = hash(i)\n",
    "    f10 = hash(i + np.array([1.0, 0.0]))\n",
    "    f01 = hash(i + np.array([0.0, 1.0]))\n",
    "    f11 = hash(i + np.array([1.0, 1.0]))\n",
    "    u = smoothstep2D(0.,1.,(1.-f))\n",
    "    return u[0]*u[1]*f00+(1.-u[0])*u[1]*f10+\\\n",
    "     u[0]*(1.-u[1])*f01+(1.-u[0])*(1.-u[1])*f11"
   ]
  },
  {
   "cell_type": "code",
   "execution_count": 4,
   "id": "0f211e98",
   "metadata": {},
   "outputs": [
    {
     "data": {
      "text/plain": [
       "array([0.00476284, 0.23081877])"
      ]
     },
     "execution_count": 4,
     "metadata": {},
     "output_type": "execute_result"
    }
   ],
   "source": [
    "noise(np.array([.2,.5]))"
   ]
  },
  {
   "cell_type": "code",
   "execution_count": 29,
   "id": "fdf8ce02",
   "metadata": {},
   "outputs": [
    {
     "data": {
      "application/vnd.jupyter.widget-view+json": {
       "model_id": "da0b3ce82c084060a8765ab969d968f3",
       "version_major": 2,
       "version_minor": 0
      },
      "text/plain": [
       "interactive(children=(FloatSlider(value=9.0, description='freq', max=20.0, min=1.0, step=2.0), Output()), _dom…"
      ]
     },
     "metadata": {},
     "output_type": "display_data"
    },
    {
     "data": {
      "text/plain": [
       "<function __main__.run(freq)>"
      ]
     },
     "execution_count": 29,
     "metadata": {},
     "output_type": "execute_result"
    }
   ],
   "source": [
    "width,height=640,480\n",
    "aspect=width/height\n",
    "image=np.zeros((height,width),dtype='int')\n",
    "@njit\n",
    "def circle(freq,image):\n",
    "    uv=np.ones(2)\n",
    "    for x in prange(width):\n",
    "        for y in prange(height):\n",
    "            uv[:2]=x/width,y/height\n",
    "            uv=2*uv-1.;uv[0]*=aspect\n",
    "            #uv*=noise(10.*uv)+.5*noise(5.*uv)\n",
    "            d=sqrt(uv[0]**2+uv[1]**2)\n",
    "            angle=atan2(uv[1],uv[0])\n",
    "            uv=noise(20.*np.array([d,angle]))\n",
    "            d=sqrt(uv[0]**2+uv[1]**2)\n",
    "\n",
    "            #d+=.1*sin(15*angle)\n",
    "            #image[y,x]=int(255*abs(sin(freq*d)))\n",
    "            image[y,x]=int(255*abs(sin(freq*d)))\n",
    "\n",
    "def run(freq):\n",
    "    circle(freq,image)\n",
    "    plt.imshow(image,cmap='gray')\n",
    "    plt.axis('off');plt.show()    \n",
    "interact(run,freq=(1.,20.,2.))"
   ]
  },
  {
   "cell_type": "code",
   "execution_count": 58,
   "id": "0d8ed6f0",
   "metadata": {},
   "outputs": [
    {
     "data": {
      "text/plain": [
       "(0, 0.0)"
      ]
     },
     "execution_count": 58,
     "metadata": {},
     "output_type": "execute_result"
    }
   ],
   "source": [
    "image.min(),gray"
   ]
  },
  {
   "cell_type": "code",
   "execution_count": null,
   "id": "35a65762",
   "metadata": {},
   "outputs": [],
   "source": []
  }
 ],
 "metadata": {
  "kernelspec": {
   "display_name": "Python 3 (ipykernel)",
   "language": "python",
   "name": "python3"
  },
  "language_info": {
   "codemirror_mode": {
    "name": "ipython",
    "version": 3
   },
   "file_extension": ".py",
   "mimetype": "text/x-python",
   "name": "python",
   "nbconvert_exporter": "python",
   "pygments_lexer": "ipython3",
   "version": "3.8.10"
  }
 },
 "nbformat": 4,
 "nbformat_minor": 5
}
