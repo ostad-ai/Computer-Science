{
 "cells": [
  {
   "cell_type": "markdown",
   "id": "ce6f8471",
   "metadata": {},
   "source": [
    "# Computer Science\n",
    "### Priority Queue\n",
    "A **priority queue** is an **abstract data type** that operates similarly to a regular queue or stack, but with one key difference: Each element has a **priority**, and elements are served (processed) based on their priority rather than their order of arrival.\n",
    "- Thus, higher-priority elements are processed before lower-priority ones.\n",
    "\n",
    "**Hint:** If two elements have the same priority, they are usually processed in the order they were added (FIFO — First In, First Out), though this can vary depending on implementation.\n",
    "<br>**Implementation:** While a priority queue defines what operations should do, it doesn’t specify how. So, we need actual data structures to implement it efficiently. One way to implement a priority queue is by using a **heap**. We talked about heaps in the previous post.\n",
    "<br>Generally, we have two types of priority queues:\n",
    "- **Max-Priority Queue:** Here, highest value = highest priority\n",
    "- **Min-Priority Queue:** Here, lowest value = highest priority\n",
    " \n",
    "<hr>\n",
    "\n",
    "In the following, we implement both max-priority queuue and min-priority queue by use of heaps. Then, we test them with examples. We also give an examplee with Python built-in priority **queue.PriorityQueue**.\n",
    "<br> **Reminder 1:** We are using the built-in heap of Python module **heapq** which is infact a **min-heap** to make the code length smaller. However, we could use the class **Heap** implemented from scratch in the previous post. \n",
    "<br> **Reminder 2:** It is mentioend that **queue.PriorityQueue** is faster and **thread-safe** than our custom priority queue by heap (we could also make it thread-safe). However, the choice between the two methods depends on the application needs and how much customization is needed. \n",
    "- It is noted that **queue.PriorityQueue** has no built-in function **peek**.\n",
    "\n",
    "\n",
    "<hr>\n",
    "\n",
    "https://github.com/ostad-ai/computer-science\n",
    "<br>Explanation in English: https://www.pinterest.com/HamedShahHosseini/computer-science/algorithms-and-python-codes/"
   ]
  },
  {
   "cell_type": "code",
   "execution_count": 1,
   "id": "f7a6d8b8",
   "metadata": {},
   "outputs": [],
   "source": [
    "# Import required modules\n",
    "import heapq\n",
    "import queue"
   ]
  },
  {
   "cell_type": "code",
   "execution_count": 2,
   "id": "fb631638",
   "metadata": {},
   "outputs": [],
   "source": [
    "# Define the class of MinPriorityQueue with heapq\n",
    "# Thus, items of lower priority are served first \n",
    "# Every item has a priority, and\n",
    "# index for tie-breaking\n",
    "class MinPriorityQueue:\n",
    "    def __init__(self):\n",
    "        self.heap = [] # The heap\n",
    "        self.index = 0  # For tie-breaking\n",
    "    \n",
    "    # Check if heap is empty\n",
    "    def is_empty(self):\n",
    "        return len(self.heap) == 0\n",
    "    \n",
    "    # Get size of the heap\n",
    "    def size(self):\n",
    "        return len(self.heap)\n",
    "    \n",
    "    def push(self, item, priority):\n",
    "        \"\"\"Add item with given priority and index\"\"\"\n",
    "        heapq.heappush(self.heap, (priority, self.index, item))\n",
    "        self.index += 1\n",
    "    \n",
    "    def pop(self):\n",
    "        \"\"\"Remove and return highest priority item (lowest priority number)\"\"\"\n",
    "        if self.is_empty():\n",
    "            raise IndexError(\"Priority queue is empty\")\n",
    "        priority, index, item = heapq.heappop(self.heap)\n",
    "        return item, priority\n",
    "    \n",
    "    def peek(self):\n",
    "        \"\"\"Return highest priority item without removing\"\"\"\n",
    "        if self.is_empty():\n",
    "            return None\n",
    "        return self.heap[0][2]  # Return the item    \n",
    "    \n",
    "    def __str__(self):\n",
    "        \"\"\"String representation showing items with their priorities\"\"\"\n",
    "        items = []\n",
    "        # Create a copy to avoid modifying the original heap\n",
    "        temp_heap = self.heap.copy()\n",
    "        while temp_heap:\n",
    "            priority, index, item = heapq.heappop(temp_heap)\n",
    "            items.append(f\"{item}(priority:{priority})\")\n",
    "        return f\"MinPriorityQueue: [{', '.join(items)}]\""
   ]
  },
  {
   "cell_type": "code",
   "execution_count": 3,
   "id": "dbe88d95",
   "metadata": {},
   "outputs": [
    {
     "name": "stdout",
     "output_type": "stream",
     "text": [
      "The first task to process: Critical bug fix\n",
      "\n",
      "Processing items in priority order (lowest first):\n",
      "Processing: Critical bug fix (priority: 1)\n",
      "Processing: Code review (priority: 2)\n",
      "Processing: Feature development (priority: 3)\n",
      "Processing: Documentation (priority: 4)\n"
     ]
    }
   ],
   "source": [
    "# Example for MinPriorityQueue\n",
    "# lower priority is served first\n",
    "pq = MinPriorityQueue()\n",
    "pq.push(\"Critical bug fix\", 1)\n",
    "pq.push(\"Feature development\", 3)\n",
    "pq.push(\"Code review\", 2)\n",
    "pq.push(\"Documentation\", 4)\n",
    "print(f'The first task to process: {pq.peek()}')\n",
    "print('\\nProcessing items in priority order (lowest first):')\n",
    "while not pq.is_empty():\n",
    "    task, priority = pq.pop()\n",
    "    print(f\"Processing: {task} (priority: {priority})\")"
   ]
  },
  {
   "cell_type": "markdown",
   "id": "53e641d5",
   "metadata": {},
   "source": [
    "<hr style=\"height:3px;background-color:lightblue\">\n",
    "\n",
    "# Max-priority queue\n",
    "### Let's implement the max-priority queue with `heapq` module of Python."
   ]
  },
  {
   "cell_type": "code",
   "execution_count": 4,
   "id": "6bb09167",
   "metadata": {},
   "outputs": [],
   "source": [
    "# Define max priority queue by using the negative of priority\n",
    "# and min-heap of module heapq\n",
    "class MaxPriorityQueue:\n",
    "    def __init__(self):\n",
    "        self.heap = []  # The heap\n",
    "        self.index = 0   # For tie-breaking\n",
    "    \n",
    "    # Check if heap is empty\n",
    "    def is_empty(self):\n",
    "        return len(self.heap) == 0\n",
    "    \n",
    "    # Get size of the heap\n",
    "    def size(self):\n",
    "        return len(self.heap)\n",
    "    \n",
    "    def push(self, item, priority):\n",
    "        \"\"\"Add item with given priority (higher numbers = higher priority)\"\"\"\n",
    "        # Use negative priority to simulate max-heap behavior\n",
    "        heapq.heappush(self.heap, (-priority, self.index, item))\n",
    "        self.index += 1\n",
    "    \n",
    "    def pop(self):\n",
    "        \"\"\"Remove and return highest priority item (highest priority number)\"\"\"\n",
    "        if self.is_empty():\n",
    "            raise IndexError(\"Priority queue is empty\")\n",
    "        neg_priority, index, item = heapq.heappop(self.heap)\n",
    "        return item, -neg_priority  # Convert back to original priority\n",
    "    \n",
    "    def peek(self):\n",
    "        \"\"\"Return highest priority item without removing\"\"\"\n",
    "        if self.is_empty():\n",
    "            return None\n",
    "        neg_priority, index, item = self.heap[0]\n",
    "        return item, -neg_priority  # Return both item and original priority\n",
    "    \n",
    "    def peek_item_only(self):\n",
    "        \"\"\"Return highest priority item only (without priority)\"\"\"\n",
    "        if self.is_empty():\n",
    "            return None\n",
    "        return self.heap[0][2]  # Return just the item\n",
    "\n",
    "    def __str__(self):\n",
    "        \"\"\"String representation showing items with their priorities\"\"\"\n",
    "        items = []\n",
    "        # Create a copy to avoid modifying the original heap\n",
    "        temp_heap = self.heap.copy()\n",
    "        while temp_heap:\n",
    "            neg_priority, index, item = heapq.heappop(temp_heap)\n",
    "            items.append(f\"{item}(priority:{-neg_priority})\")\n",
    "        return f\"MaxPriorityQueue: [{', '.join(items)}]\""
   ]
  },
  {
   "cell_type": "code",
   "execution_count": 5,
   "id": "107986a8",
   "metadata": {},
   "outputs": [
    {
     "name": "stdout",
     "output_type": "stream",
     "text": [
      "Adding items to the queue:\n",
      "  Pushed: 'Low priority task' with priority 1\n",
      "  Pushed: 'Medium priority task' with priority 5\n",
      "  Pushed: 'High priority task' with priority 10\n",
      "  Pushed: 'Critical task' with priority 15\n",
      "  Pushed: 'Another medium' with priority 3\n",
      "\n",
      "Queue size: 5\n",
      "Is empty: False\n",
      "\n",
      "Next item to process: 'Critical task' (priority: 15)\n",
      "\n",
      "Processing items in priority order (highest first):\n",
      "  Popped: 'Critical task' (priority: 15)\n",
      "  Popped: 'High priority task' (priority: 10)\n",
      "  Popped: 'Medium priority task' (priority: 5)\n",
      "  Popped: 'Another medium' (priority: 3)\n",
      "  Popped: 'Low priority task' (priority: 1)\n",
      "\n",
      "Queue empty: True\n"
     ]
    }
   ],
   "source": [
    "# Example for MaxPriorityQueue\n",
    "# Add items with priorities (higher numbers = higher priority)\n",
    "items = [\n",
    "    (\"Low priority task\", 1),\n",
    "    (\"Medium priority task\", 5),\n",
    "    (\"High priority task\", 10),\n",
    "    (\"Critical task\", 15),\n",
    "    (\"Another medium\", 3)\n",
    "]\n",
    "\n",
    "pqMax=MaxPriorityQueue()\n",
    "print(\"Adding items to the queue:\")\n",
    "for item, priority in items:\n",
    "    pqMax.push(item, priority)\n",
    "    print(f\"  Pushed: '{item}' with priority {priority}\")\n",
    "\n",
    "print(f\"\\nQueue size: {pqMax.size()}\")\n",
    "print(f\"Is empty: {pqMax.is_empty()}\")\n",
    "\n",
    "# Peek at the highest priority item\n",
    "next_item, next_priority = pqMax.peek()\n",
    "print(f\"\\nNext item to process: '{next_item}' (priority: {next_priority})\")\n",
    "\n",
    "print(\"\\nProcessing items in priority order (highest first):\")\n",
    "while not pqMax.is_empty():\n",
    "    item, priority = pqMax.pop()\n",
    "    print(f\"  Popped: '{item}' (priority: {priority})\")\n",
    "\n",
    "print(f\"\\nQueue empty: {pqMax.is_empty()}\")"
   ]
  },
  {
   "cell_type": "markdown",
   "id": "708373f3",
   "metadata": {},
   "source": [
    "<hr style=\"height:3px;background-color:lightblue\">\n",
    "\n",
    "# queue.PriorityQueue\n",
    "### Let's use the built-in priority queue of Python."
   ]
  },
  {
   "cell_type": "code",
   "execution_count": 7,
   "id": "306c4340",
   "metadata": {},
   "outputs": [
    {
     "name": "stdout",
     "output_type": "stream",
     "text": [
      "Processing items in priority order (lowest first):\n",
      "Processing: Critical bug fix (priority: 1)\n",
      "Processing: Code review (priority: 2)\n",
      "Processing: Feature development (priority: 3)\n",
      "Processing: Documentation (priority: 4)\n"
     ]
    }
   ],
   "source": [
    "# The same example for MinPriorityQueue\n",
    "# lower priority is served first\n",
    "qpq = queue.PriorityQueue()\n",
    "qpq.put((1,\"Critical bug fix\"))\n",
    "qpq.put((3,\"Feature development\"))\n",
    "qpq.put((2,\"Code review\"))\n",
    "qpq.put((4,\"Documentation\"))\n",
    "print('Processing items in priority order (lowest first):')\n",
    "while not qpq.empty():\n",
    "    priority,task = qpq.get()\n",
    "    print(f\"Processing: {task} (priority: {priority})\")"
   ]
  },
  {
   "cell_type": "code",
   "execution_count": null,
   "id": "6f56c959",
   "metadata": {},
   "outputs": [],
   "source": []
  }
 ],
 "metadata": {
  "kernelspec": {
   "display_name": "Python 3 (ipykernel)",
   "language": "python",
   "name": "python3"
  },
  "language_info": {
   "codemirror_mode": {
    "name": "ipython",
    "version": 3
   },
   "file_extension": ".py",
   "mimetype": "text/x-python",
   "name": "python",
   "nbconvert_exporter": "python",
   "pygments_lexer": "ipython3",
   "version": "3.11.1"
  }
 },
 "nbformat": 4,
 "nbformat_minor": 5
}
