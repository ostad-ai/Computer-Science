{
 "cells": [
  {
   "cell_type": "markdown",
   "id": "c387f1db",
   "metadata": {},
   "source": [
    "### Computer Science: Computing determinant of a matrix by converting it into an upper triangular one\n",
    "###### by Hamed Shah-hosseini\n",
    "Explanation at: https://www.pinterest.com/HamedShahHosseini/\n",
    "<br>https://github.com/ostad-ai/Computer-Science"
   ]
  },
  {
   "cell_type": "code",
   "execution_count": 2,
   "id": "aef73ce1",
   "metadata": {},
   "outputs": [],
   "source": [
    "import numpy as np"
   ]
  },
  {
   "cell_type": "code",
   "execution_count": 4,
   "id": "64e6332c",
   "metadata": {},
   "outputs": [],
   "source": [
    "#--Computing determinant by converting \n",
    "#--the matrix C to to an upper triangular one\n",
    "def det(C):\n",
    "    A=C.copy().astype('float64')\n",
    "    n=A.shape[0]\n",
    "    signChange=1\n",
    "    for ii in range(n-1):\n",
    "        if A[ii,ii]==0:\n",
    "            flag=False\n",
    "            for j in range(ii+1,n):\n",
    "                if A[j,ii]!=0:\n",
    "                    A[ii],A[j]=A[j].copy(),A[ii].copy()\n",
    "                    flag=True; signChange*=-1\n",
    "                    break \n",
    "            if flag is False:\n",
    "                continue\n",
    "        for j in range(ii+1,n):\n",
    "            if A[j,ii]!=0:\n",
    "                landa=A[j,ii]/A[ii,ii]\n",
    "                A[j,ii:]=A[j,ii:]-landa*A[ii,ii:]\n",
    "    product=signChange\n",
    "    for ii in range(n):\n",
    "        product*=A[ii,ii]\n",
    "    return product,A"
   ]
  },
  {
   "cell_type": "code",
   "execution_count": 5,
   "id": "d57dad49",
   "metadata": {},
   "outputs": [
    {
     "name": "stdout",
     "output_type": "stream",
     "text": [
      "Determinant of Matrix with numpy:  3.000000000000001\n",
      "Determinant of Matrix with  code:  3.0\n"
     ]
    }
   ],
   "source": [
    "A=np.array([[0,2,3],\n",
    "            [4,5,6],\n",
    "            [7,8,9]],dtype=np.float64)\n",
    "print('Determinant of Matrix with numpy: ',np.linalg.det(A))\n",
    "print('Determinant of Matrix with  code: ',det(A)[0])"
   ]
  },
  {
   "cell_type": "code",
   "execution_count": 6,
   "id": "962f16e4",
   "metadata": {},
   "outputs": [
    {
     "name": "stdout",
     "output_type": "stream",
     "text": [
      "Determinant of Matrix with numpy:  -26812.5707842879\n",
      "Determinant of Matrix with  code:  -26812.57078429096\n"
     ]
    }
   ],
   "source": [
    "A=np.random.rand(50,50)\n",
    "print('Determinant of Matrix with numpy: ',np.linalg.det(A))\n",
    "print('Determinant of Matrix with  code: ',det(A)[0])"
   ]
  },
  {
   "cell_type": "code",
   "execution_count": 12,
   "id": "fe152710",
   "metadata": {},
   "outputs": [
    {
     "name": "stdout",
     "output_type": "stream",
     "text": [
      "Determinant of Matrix with  code:  -0.0\n",
      "Upper triangular matrix:\n",
      " [[ 1.  2.  3.]\n",
      " [ 0. -3. -6.]\n",
      " [ 0.  0.  0.]]\n"
     ]
    }
   ],
   "source": [
    "A=np.array([[1,2,3],\n",
    "            [4,5,6],\n",
    "            [7,8,9]],dtype=np.float64)\n",
    "detMat,upper=det(A)\n",
    "print('Determinant of Matrix with  code: ',detMat)\n",
    "print('Upper triangular matrix:\\n',upper)"
   ]
  },
  {
   "cell_type": "code",
   "execution_count": null,
   "id": "a8d8129f",
   "metadata": {},
   "outputs": [],
   "source": []
  }
 ],
 "metadata": {
  "kernelspec": {
   "display_name": "Python 3 (ipykernel)",
   "language": "python",
   "name": "python3"
  },
  "language_info": {
   "codemirror_mode": {
    "name": "ipython",
    "version": 3
   },
   "file_extension": ".py",
   "mimetype": "text/x-python",
   "name": "python",
   "nbconvert_exporter": "python",
   "pygments_lexer": "ipython3",
   "version": "3.8.10"
  }
 },
 "nbformat": 4,
 "nbformat_minor": 5
}
