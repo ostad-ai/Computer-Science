{
 "cells": [
  {
   "cell_type": "markdown",
   "metadata": {},
   "source": [
    "### Computer Science: Cramer's rule\n",
    "###### by Hamed Shah-hosseini\n",
    "Explanation at: https://www.pinterest.com/HamedShahHosseini/\n",
    "<br>https://github.com/ostad-ai/Computer-Science"
   ]
  },
  {
   "cell_type": "code",
   "execution_count": 7,
   "metadata": {},
   "outputs": [],
   "source": [
    "import numpy as np\n",
    "from matplotlib import pyplot as plt"
   ]
  },
  {
   "cell_type": "code",
   "execution_count": 8,
   "metadata": {},
   "outputs": [],
   "source": [
    "#could use np.linalg.det instead of det\n",
    "# det implemented in previous post and brought here below\n",
    "def cramer_rule(A,b):\n",
    "    n=A.shape[0]\n",
    "    x=np.zeros(n)\n",
    "    detA=det(A)[0]  \n",
    "    if detA==0:\n",
    "        return None\n",
    "    for i in range(n):\n",
    "        Ai=A.copy()\n",
    "        Ai[:,i]=b.copy()\n",
    "        x[i]=det(Ai)[0]/detA\n",
    "    return x\n",
    "\n",
    "#--Computing determinant by converting \n",
    "#--the matrix C to to an upper triangular one\n",
    "def det(C):\n",
    "    A=C.copy().astype('float64')\n",
    "    n=A.shape[0]\n",
    "    signChange=1\n",
    "    for ii in range(n-1):\n",
    "        if A[ii,ii]==0:\n",
    "            flag=False\n",
    "            for j in range(ii+1,n):\n",
    "                if A[j,ii]!=0:\n",
    "                    A[ii],A[j]=A[j].copy(),A[ii].copy()\n",
    "                    flag=True; signChange*=-1\n",
    "                    break \n",
    "            if flag is False:\n",
    "                continue\n",
    "        for j in range(ii+1,n):\n",
    "            if A[j,ii]!=0:\n",
    "                landa=A[j,ii]/A[ii,ii]\n",
    "                A[j,ii:]=A[j,ii:]-landa*A[ii,ii:]\n",
    "    product=signChange\n",
    "    for ii in range(n):\n",
    "        product*=A[ii,ii]\n",
    "    return product,A"
   ]
  },
  {
   "cell_type": "code",
   "execution_count": 9,
   "metadata": {},
   "outputs": [
    {
     "data": {
      "image/png": "[encoded data removed]",
      "text/plain": [
       "<Figure size 432x288 with 1 Axes>"
      ]
     },
     "metadata": {
      "needs_background": "light"
     },
     "output_type": "display_data"
    }
   ],
   "source": [
    "#-example to solve Ax=b for x\n",
    "A=np.array([[3, -2],\n",
    "            [4,1]    \n",
    "            ],dtype='float')\n",
    "b=np.array([2,5],dtype='float')\n",
    "x=cramer_rule(A,b)\n",
    "if x is not None: # has unique solution\n",
    "    zs=np.linspace(-10,10,20)\n",
    "    for (ai,bi),ci in zip(A,b):\n",
    "        if bi!=0.:\n",
    "            plt.plot(zs,(ci-ai*zs)/bi,'-')\n",
    "        else:\n",
    "            plt.plot([ci/ai]*zs.shape[0],zs,'-')\n",
    "    plt.plot(x[0],x[1],'d',\n",
    "    label=f'solution: {np.array_str(x,precision=3)}')\n",
    "    plt.legend()\n",
    "    plt.title('Cramer\\'s rule to find solution')\n",
    "    plt.show()\n",
    "else:\n",
    "    print('No solution or many solutions')"
   ]
  },
  {
   "cell_type": "code",
   "execution_count": null,
   "metadata": {},
   "outputs": [],
   "source": []
  }
 ],
 "metadata": {
  "kernelspec": {
   "display_name": "Python 3",
   "language": "python",
   "name": "python3"
  },
  "language_info": {
   "codemirror_mode": {
    "name": "ipython",
    "version": 3
   },
   "file_extension": ".py",
   "mimetype": "text/x-python",
   "name": "python",
   "nbconvert_exporter": "python",
   "pygments_lexer": "ipython3",
   "version": "3.8.3"
  }
 },
 "nbformat": 4,
 "nbformat_minor": 5
}
