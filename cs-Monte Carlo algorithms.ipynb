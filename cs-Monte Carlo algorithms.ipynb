{
 "cells": [
  {
   "cell_type": "markdown",
   "id": "b3cf7d41",
   "metadata": {},
   "source": [
    "# Monte Carlo algorithms\n",
    "The **Monte Carlo algorithm** refers to a class of computational algorithms that rely on **random sampling** to obtain numerical results. It is used in various fields, including statistics, finance, physics, mathematics, and engineering, to solve problems that may be deterministic in nature but are difficult to solve analytically.\n",
    "<br> We may use the following formula to estimate a **definite integral** by the Monte Carlo algorithm:\n",
    "<div style=\"margin-top:6px\"></div>\n",
    "$\\large \\int_a^bf(x)dx=\\frac{b-a}{N}\\sum_{i=1}^N f(x_i)$, where $x_i\\sim Uniform[a,b]$\n",
    "<div style=\"margin-bottom:6px\"></div>\n",
    "For a general domain $D$, we can extend the formula to:\n",
    "<div style=\"margin-top:6px\"></div>\n",
    "$\\large \\int_D f(\\boldsymbol{x})d\\boldsymbol{x}=vol(D)\\cdot \\frac{1}{N}\\sum_{i=1}^N f(\\boldsymbol{x}_i)$, where $\\boldsymbol{x}_i\\sim Uniform[D]$\n",
    "<div style=\"margin-bottom:6px\"></div>\n",
    "where $vol(D)$ refers to the volume of domain $D$.\n",
    "<hr>\n",
    "\n",
    "In the following, we use Monte Carlo algorithms for some computational problems.\n",
    "<hr>\n",
    "\n",
    "https://github.com/ostad-ai/computer-science\n",
    "<br>Explanation in English: https://www.pinterest.com/HamedShahHosseini/computer-science/algorithms-and-python-codes/"
   ]
  },
  {
   "cell_type": "code",
   "execution_count": 1,
   "id": "8b364233",
   "metadata": {},
   "outputs": [],
   "source": [
    "# Import required modules\n",
    "import numpy as np\n",
    "from scipy.integrate import quad,dblquad"
   ]
  },
  {
   "cell_type": "markdown",
   "id": "c8d3e2c7",
   "metadata": {},
   "source": [
    "In the code below, we estimate $\\pi$ by:\n",
    "<div style=\"margin-top:6px\"></div>\n",
    "$\\large \\pi=4\\cdot \\frac{number\\;of\\;points\\;inside\\;circle}{N}$"
   ]
  },
  {
   "cell_type": "code",
   "execution_count": 2,
   "id": "fda33ddf",
   "metadata": {},
   "outputs": [
    {
     "name": "stdout",
     "output_type": "stream",
     "text": [
      "Pi estimation by Monte Carlo: 3.14264\n"
     ]
    }
   ],
   "source": [
    "# #stimation of pi number\n",
    "def estimate_pi(N):\n",
    "    x = np.random.rand(N)\n",
    "    y = np.random.rand(N)\n",
    "    inside = np.sum(x**2 + y**2 <= 1)\n",
    "    return 4 * inside / N\n",
    "\n",
    "print(f'Pi estimation by Monte Carlo: {estimate_pi(1_000_000)}') "
   ]
  },
  {
   "cell_type": "markdown",
   "id": "1ce620a6",
   "metadata": {},
   "source": [
    "In the code below, we estimate the integral $\\int_0^1 e^{-x^2} dx$"
   ]
  },
  {
   "cell_type": "code",
   "execution_count": 3,
   "id": "8319cec0",
   "metadata": {},
   "outputs": [
    {
     "name": "stdout",
     "output_type": "stream",
     "text": [
      "Result with Monte Carlo algorithm:  0.746803\n",
      "With the quad numerical integrator: 0.746824\n"
     ]
    }
   ],
   "source": [
    "def func(x):\n",
    "    return np.exp(-x**2)\n",
    "\n",
    "def monte_carlo_integrate(f, a, b, N=1_000_000):\n",
    "    x = np.random.uniform(a, b, N) # uniform samples\n",
    "    return (b - a) * np.mean(f(x))\n",
    "\n",
    "result = monte_carlo_integrate(func, 0, 1)\n",
    "print(f\"Result with Monte Carlo algorithm:  {result:.6f}\")  \n",
    "print(f'With the quad numerical integrator: {quad(func,0,1)[0]:.6f}')"
   ]
  },
  {
   "cell_type": "markdown",
   "id": "5ea3d445",
   "metadata": {},
   "source": [
    "In the code below,  we estimate $\\int\\int_{1\\leq x^2+y^2\\leq 4} sin(\\sqrt{x^2+y^2}) dxdy$"
   ]
  },
  {
   "cell_type": "code",
   "execution_count": 4,
   "id": "b533f16c",
   "metadata": {},
   "outputs": [
    {
     "name": "stdout",
     "output_type": "stream",
     "text": [
      "Estimated integral:  9.050609617663168\n",
      "Analytical solution: 9.050440991634904\n"
     ]
    }
   ],
   "source": [
    "# The analytic solution of the integral is:\n",
    "# 2π[sin(2)−2cos(2)−sin(1)+cos(1)]\n",
    "\n",
    "def f(x, y):\n",
    "    return np.sin(np.sqrt(x**2 + y**2))\n",
    "\n",
    "def in_annulus(x, y):\n",
    "    r_squared = x**2 + y**2\n",
    "    return (1 <= r_squared) & (r_squared <= 4)\n",
    "\n",
    "N = 1_000_000\n",
    "x = np.random.uniform(-2, 2, N)\n",
    "y = np.random.uniform(-2, 2, N)\n",
    "mask = in_annulus(x, y)\n",
    "x_in, y_in = x[mask], y[mask]\n",
    "\n",
    "# Area of annulus = π(2² - 1²) = 3π\n",
    "annulus_area = 3 * np.pi\n",
    "\n",
    "# Monte Carlo estimate\n",
    "integral = annulus_area * np.mean(f(x_in, y_in))\n",
    "\n",
    "print(f'Estimated integral:  {integral}')  # Should be ≈9.050440991634904\n",
    "print(f'Analytical solution: {2*np.pi*(np.sin(2)-2*np.cos(2)-np.sin(1)+np.cos(1))}')"
   ]
  },
  {
   "cell_type": "markdown",
   "id": "161b5e95",
   "metadata": {},
   "source": [
    "In the code below, we find the minimum of the following function:\n",
    "<br>$f(x,y)=(x-2)^2+(y-3)^2+sin(3x)*cos(4y)$"
   ]
  },
  {
   "cell_type": "code",
   "execution_count": 5,
   "id": "627fa8d7",
   "metadata": {},
   "outputs": [
    {
     "name": "stdout",
     "output_type": "stream",
     "text": [
      "Monte Carlo Optimum: x=1.644, y=3.111, f=-0.830\n"
     ]
    }
   ],
   "source": [
    "# example of Function optimization\n",
    "def f(x, y):\n",
    "    return (x - 2)**2 + (y - 3)**2 + np.sin(3*x) * np.cos(4*y)\n",
    "\n",
    "# Monte Carlo optimization\n",
    "N = 10_000\n",
    "x_samples = np.random.uniform(0, 4, N)  # Search in [0,4]x[0,6]\n",
    "y_samples = np.random.uniform(0, 6, N)\n",
    "values = f(x_samples, y_samples)\n",
    "\n",
    "min_idx = np.argmin(values)\n",
    "x_opt, y_opt = x_samples[min_idx], y_samples[min_idx]\n",
    "print(f\"Monte Carlo Optimum: x={x_opt:.3f}, y={y_opt:.3f}, f={values[min_idx]:.3f}\")"
   ]
  },
  {
   "cell_type": "code",
   "execution_count": null,
   "id": "7792264b",
   "metadata": {},
   "outputs": [],
   "source": []
  }
 ],
 "metadata": {
  "kernelspec": {
   "display_name": "Python 3 (ipykernel)",
   "language": "python",
   "name": "python3"
  },
  "language_info": {
   "codemirror_mode": {
    "name": "ipython",
    "version": 3
   },
   "file_extension": ".py",
   "mimetype": "text/x-python",
   "name": "python",
   "nbconvert_exporter": "python",
   "pygments_lexer": "ipython3",
   "version": "3.11.1"
  }
 },
 "nbformat": 4,
 "nbformat_minor": 5
}
