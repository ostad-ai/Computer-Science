{
 "cells": [
  {
   "cell_type": "markdown",
   "id": "e253fd3b",
   "metadata": {},
   "source": [
    "# Computer Science\n",
    "## Matrix vector multiplication and linear combination\n",
    "For a matrix $A$ and column vector $\\boldsymbol{w}$ the ordinary way to compute their product is the matrix vector multiplication as usual. However, it is possible to express their product by a **linear combination** of columns of matrix $A$ by components of $\\boldsymbol{w}$ as weights. Specifically:\n",
    "<br> $A\\boldsymbol{w}=\\sum_j w_j A_{col_j}$\n",
    "<br> Where $A_{col_j}$ is the column $j$ of matrix $A$\n",
    "<br> In this post, we demonstrate the propertiy mentioned above by an example in Python code\n",
    "<br> The **Python** code is at: https://github.com/ostad-ai/Computer-Science\n",
    "<br> Explanation in **English** at: https://www.pinterest.com/HamedShahHosseini/computer-science/background-knowledge/"
   ]
  },
  {
   "cell_type": "code",
   "execution_count": 1,
   "id": "4dc83db9",
   "metadata": {},
   "outputs": [],
   "source": [
    "# importing the required modules\n",
    "import numpy as np"
   ]
  },
  {
   "cell_type": "code",
   "execution_count": 2,
   "id": "c68d2202",
   "metadata": {},
   "outputs": [
    {
     "name": "stdout",
     "output_type": "stream",
     "text": [
      "--------Matrix Vector Product\n",
      "Answer by the ordinary way:\n",
      " [[150]\n",
      " [382]\n",
      " [614]]\n",
      "---------------\n",
      "Answer by the linear combination:\n",
      " [[150]\n",
      " [382]\n",
      " [614]]\n"
     ]
    }
   ],
   "source": [
    "# example\n",
    "# the matrix\n",
    "A=np.array([[1,2,3,4],[5,6,7,8],[9,10,11,12]])\n",
    "# the column vector\n",
    "w=np.array([13,14,15,16]).reshape(-1,1)\n",
    "# matrix vector product in the ordinary way\n",
    "Aw=A@w\n",
    "# number of columns\n",
    "q=A.shape[1]\n",
    "product=0\n",
    "for j in range(q):\n",
    "    product+=w[j]*A[:,j].reshape(-1,1)\n",
    "print('--------Matrix Vector Product')\n",
    "print(f'Answer by the ordinary way:\\n {Aw}')\n",
    "print('---------------')\n",
    "print(f'Answer by the linear combination:\\n {product}')"
   ]
  },
  {
   "cell_type": "code",
   "execution_count": null,
   "id": "fd5f80c0",
   "metadata": {},
   "outputs": [],
   "source": []
  }
 ],
 "metadata": {
  "kernelspec": {
   "display_name": "Python 3 (ipykernel)",
   "language": "python",
   "name": "python3"
  },
  "language_info": {
   "codemirror_mode": {
    "name": "ipython",
    "version": 3
   },
   "file_extension": ".py",
   "mimetype": "text/x-python",
   "name": "python",
   "nbconvert_exporter": "python",
   "pygments_lexer": "ipython3",
   "version": "3.11.1"
  }
 },
 "nbformat": 4,
 "nbformat_minor": 5
}
