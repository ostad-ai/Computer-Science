{
 "cells": [
  {
   "cell_type": "markdown",
   "id": "e253fd3b",
   "metadata": {},
   "source": [
    "# Computer Science\n",
    "## Determinant of a square matrix\n",
    "For a *square* matrix $A$, its **determinant**,denoted by $det(A)$ or $|A|$ is a scalar value, which reflects some properties of the given matrix. In the following, several properties of the determinant are mentioned ($A$ and $B$ are square matrices):\n",
    "<br>\n",
    "- $|I|=1$, where $I$ is the identity matrix\n",
    "- $|A|=\\prod_i a_{ii}$, where $A$ is a triangular matrix\n",
    "- $|A^T|=|A|$\n",
    "- $|AB|=|BA|=|A||B|$, where $A$ and $B$ are of the same size.\n",
    "- $|cA|=c^n|A|$\n",
    "- $|A^-1|=\\frac{1}{|A|}$, $|A|\\ne0$\n",
    "- $|A|=\\prod_i \\lambda_i$ where $\\lambda_i$ are the eigenvalues of matrix $A$\n",
    "\n",
    "In the examples below, some properties of determinant are checked in Python code. Also, the function to compute **cofactors** and **minors** of the matrix are expressed. \n",
    "<br>**Hint:** It should be noted that we earlier provided a notebook file in this *repository* to implement computing determinant from scratch, for those interested to implement algorithms from scratch.\n",
    "<br> The **Python** code is at: https://github.com/ostad-ai/Computer-Science\n",
    "<br> Explanation in **English** at: https://www.pinterest.com/HamedShahHosseini/computer-science/background-knowledge/"
   ]
  },
  {
   "cell_type": "code",
   "execution_count": 1,
   "id": "9b12407c",
   "metadata": {},
   "outputs": [],
   "source": [
    "# import required modules\n",
    "import numpy as np"
   ]
  },
  {
   "cell_type": "code",
   "execution_count": 2,
   "id": "c68d2202",
   "metadata": {},
   "outputs": [
    {
     "name": "stdout",
     "output_type": "stream",
     "text": [
      "-----The matrix A is:\n",
      "[[8 2 6]\n",
      " [6 6 5]\n",
      " [4 8 7]] \n",
      "-----The determinant of matrix A: 115.99999999999989\n",
      "-----The determiant of matrix A.T: 115.99999999999999\n",
      "1/det(A): 0.008620689655172422\n",
      "det(A^-1): 0.008620689655172422\n",
      "-----The multiplication of eigenvalues of the matrix A:(115.99999999999997+0j)\n",
      "det(A*B): -9743.999999999953\n",
      "det(B*A): -9744.000000000005\n",
      "det(A)*det(B): -9743.999999999989\n"
     ]
    }
   ],
   "source": [
    "# example\n",
    "n=3 # size of square matrices\n",
    "# the matrices\n",
    "A=np.random.randint(1,10,(n,n))\n",
    "B=np.random.randint(1,10,(n,n))\n",
    "print(f'-----The matrix A is:\\n{A} ')\n",
    "print(f'-----The determinant of matrix A:',np.linalg.det(A))\n",
    "print(f'-----The determiant of matrix A.T: {np.linalg.det(A.T)}')\n",
    "print(f'1/det(A): {1/np.linalg.det(A)}')\n",
    "print(f'det(A^-1): {np.linalg.det(np.linalg.inv(A))}')\n",
    "#relation of determinant with eigenvalues\n",
    "eigs=np.linalg.eigvals(A)\n",
    "print(f'-----The multiplication of eigenvalues of the matrix A:{np.prod(eigs)}')\n",
    "#cheching the commutativity of trace\n",
    "print(f'det(A*B): {np.linalg.det(A@B)}')\n",
    "print(f'det(B*A): {np.linalg.det(B@A)}')\n",
    "print(f'det(A)*det(B): {np.linalg.det(A)*np.linalg.det(B)}')"
   ]
  },
  {
   "cell_type": "code",
   "execution_count": 19,
   "id": "ec2acf2c",
   "metadata": {},
   "outputs": [],
   "source": [
    "# example on minors and cofactor\n",
    "# matrix A is square\n",
    "#returns both minor matrix and cofactor matrix\n",
    "def minor_cofactor(A):\n",
    "    n=A.shape[0]\n",
    "    C=np.zeros((n,n))\n",
    "    M=C.copy()\n",
    "    for i in range(n):\n",
    "        for j in range(n):\n",
    "            M[i,j]=np.linalg.det(np.delete(np.delete(A,i,0),j,1))\n",
    "            C[i,j]=(-1)**(i+j)*M[i,j]\n",
    "    return M,C"
   ]
  },
  {
   "cell_type": "code",
   "execution_count": 29,
   "id": "afbf5beb",
   "metadata": {},
   "outputs": [
    {
     "name": "stdout",
     "output_type": "stream",
     "text": [
      "det(A) by cofactor: 116.0\n",
      "-----------\n",
      "-----inverse of matrix A by its adjugate:\n",
      " [[ 0.01724138  0.29310345 -0.22413793]\n",
      " [-0.18965517  0.27586207 -0.03448276]\n",
      " [ 0.20689655 -0.48275862  0.31034483]]\n",
      "-----checking A*A_inverse=I:\n",
      " [[ 1.00000000e+00  6.66133815e-16 -1.11022302e-16]\n",
      " [-3.60822483e-16  1.00000000e+00 -1.66533454e-16]\n",
      " [-6.38378239e-16  5.55111512e-16  1.00000000e+00]]\n"
     ]
    }
   ],
   "source": [
    "# example of cofactor to compute determinant and inverse\n",
    "M,C=minor_cofactor(A)\n",
    "row=2\n",
    "detA=np.sum(A[row]*C[row])\n",
    "print(f'det(A) by cofactor: {detA}')\n",
    "print('-----------')\n",
    "adjA=C.T # adjugate of matrix A\n",
    "A_inv=adjA/detA\n",
    "print(f'-----inverse of matrix A by its adjugate:\\n {A_inv}')\n",
    "print(f'-----checking A*A_inverse=I:\\n {A@A_inv}')"
   ]
  },
  {
   "cell_type": "code",
   "execution_count": null,
   "id": "cacd896d",
   "metadata": {},
   "outputs": [],
   "source": []
  }
 ],
 "metadata": {
  "kernelspec": {
   "display_name": "Python 3 (ipykernel)",
   "language": "python",
   "name": "python3"
  },
  "language_info": {
   "codemirror_mode": {
    "name": "ipython",
    "version": 3
   },
   "file_extension": ".py",
   "mimetype": "text/x-python",
   "name": "python",
   "nbconvert_exporter": "python",
   "pygments_lexer": "ipython3",
   "version": "3.11.1"
  }
 },
 "nbformat": 4,
 "nbformat_minor": 5
}
