{
 "cells": [
  {
   "cell_type": "markdown",
   "metadata": {},
   "source": [
    "### Computer Science: Computing inverse of a matrix by Gauss-Jordan elimination in Python\n",
    "$[A|I] \\rightarrow [I|A^{-1}]$\n",
    "###### by Hamed Shah-Hosseini\n",
    "Explanation in English: https://www.pinterest.com/HamedShahHosseini/\n",
    "<br>Explanation in Persian: https://www.instagram.com/words.persian\n",
    "<br> Python code at: https://github.com/ostad-ai/Computer-Science"
   ]
  },
  {
   "cell_type": "code",
   "execution_count": 4,
   "metadata": {},
   "outputs": [],
   "source": [
    "import numpy as np"
   ]
  },
  {
   "cell_type": "code",
   "execution_count": 43,
   "metadata": {},
   "outputs": [],
   "source": [
    "# to find inverse of a square matrix A\n",
    "# A is changed in this implementation\n",
    "def Gauss_Jordan(A):\n",
    "    n=A.shape[0] #row size==column size\n",
    "    I=np.identity(n)\n",
    "    for i in range(n):\n",
    "        # find maximum value in each column below the row\n",
    "        i_max=i+np.argmax(np.abs(A[i:,i]))\n",
    "        if A[i_max,i]==0: return None # no inverse\n",
    "        elif i_max!=i:\n",
    "            A[i,:],A[i_max,:]=A[i_max,:].copy(),A[i,:].copy()\n",
    "            I[i,:],I[i_max,:]=I[i_max,:].copy(),I[i,:].copy()\n",
    "        for j in range(n):\n",
    "            if i==j: continue\n",
    "            if A[j,i]==0: continue\n",
    "            ratio=A[j,i]/A[i,i]\n",
    "            for k in range(n):\n",
    "                A[j,k]-=ratio*A[i,k]\n",
    "                I[j,k]-=ratio*I[i,k]    \n",
    "    for i in range(n):\n",
    "        I[i,:]/=A[i,i]\n",
    "        A[i,:]/=A[i,i]\n",
    "    return I"
   ]
  },
  {
   "cell_type": "code",
   "execution_count": 46,
   "metadata": {},
   "outputs": [
    {
     "name": "stdout",
     "output_type": "stream",
     "text": [
      "Are the results accurate? True\n",
      "A_inverse * A:\n",
      "[[ 1.  0.  0.  0. -0.]\n",
      " [-0.  1.  0. -0. -0.]\n",
      " [ 0.  0.  1.  0.  0.]\n",
      " [ 0. -0. -0.  1.  0.]\n",
      " [ 0.  0.  0.  0.  1.]]\n"
     ]
    }
   ],
   "source": [
    "n=5  # testing the Gauss-Jordan elimination\n",
    "A=np.identity(n)+np.random.rand(n,n)\n",
    "Ac=A.copy()\n",
    "AInv=Gauss_Jordan(Ac)\n",
    "print('Are the results accurate?',\n",
    "      np.allclose(np.linalg.inv(A),AInv))\n",
    "print(\"A_inverse * A:\")\n",
    "print(np.round(np.dot(AInv,A),5))"
   ]
  },
  {
   "cell_type": "code",
   "execution_count": null,
   "metadata": {},
   "outputs": [],
   "source": []
  }
 ],
 "metadata": {
  "kernelspec": {
   "display_name": "Python 3",
   "language": "python",
   "name": "python3"
  },
  "language_info": {
   "codemirror_mode": {
    "name": "ipython",
    "version": 3
   },
   "file_extension": ".py",
   "mimetype": "text/x-python",
   "name": "python",
   "nbconvert_exporter": "python",
   "pygments_lexer": "ipython3",
   "version": "3.8.3"
  }
 },
 "nbformat": 4,
 "nbformat_minor": 2
}
