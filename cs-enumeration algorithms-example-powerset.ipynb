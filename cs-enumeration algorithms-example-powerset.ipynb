{
 "cells": [
  {
   "cell_type": "markdown",
   "id": "b3cf7d41",
   "metadata": {},
   "source": [
    "# Enumeration algorithms\n",
    "The **enumeration algorithms** refers to a class of algorithms that generate every valid solution to a problem exactly once, often one after another, in a systematic and efficient way.\n",
    "<br>For example, we may use an enumeration algorithm to find the **power set** of a given set $S$, denoted by $P(S)$.\n",
    "<br> **Reminder:** A **power set** is a set of all possible subsets of a given set, including the empty set and the set itself.\n",
    "<br> **Hint:** For a set with $n$ elements, there are $2^n$ subsets in its power set.\n",
    "<hr>\n",
    "\n",
    "In the following, we express two enumeration algorithms to find the power set of a given set. One a **recursive** version, and another an **iterative** one.\n",
    "- As a bonus, we give an example of enumerating all permutations of letters in a word.\n",
    "<hr>\n",
    "\n",
    "https://github.com/ostad-ai/computer-science\n",
    "<br>Explanation in English: https://www.pinterest.com/HamedShahHosseini/computer-science/algorithms-and-python-codes/"
   ]
  },
  {
   "cell_type": "code",
   "execution_count": 1,
   "id": "18b69fac",
   "metadata": {},
   "outputs": [],
   "source": [
    "# Define a recursive enumeration algorithm for powerset\n",
    "def powerset_recursive(original_set):\n",
    "    \"\"\"\n",
    "    Returns the powerset (all subsets) of a given set using recursion.\n",
    "    \n",
    "    Args:\n",
    "        original_set: List or any iterable representing the input set\n",
    "    \n",
    "    Returns:\n",
    "        List of lists, each representing a subset\n",
    "    \"\"\"\n",
    "    def backtrack(index, current_subset, powerset):\n",
    "        if index == len(original_set):\n",
    "            powerset.append(current_subset[:])  # Add to accumulated result\n",
    "            return\n",
    "\n",
    "        # Exclude current element\n",
    "        backtrack(index + 1, current_subset, powerset)\n",
    "\n",
    "        # Include current element\n",
    "        current_subset.append(original_set[index])\n",
    "        backtrack(index + 1, current_subset, powerset)\n",
    "        current_subset.pop()  # Backtrack\n",
    "    \n",
    "    powerset=[] \n",
    "    backtrack(0,[],powerset)\n",
    "    return powerset"
   ]
  },
  {
   "cell_type": "code",
   "execution_count": 2,
   "id": "92949b67",
   "metadata": {},
   "outputs": [
    {
     "name": "stdout",
     "output_type": "stream",
     "text": [
      "Generate all subsets of set: {A, B, C}:\n",
      "------------------------------\n",
      "The power set:\n",
      "[[], ['C'], ['B'], ['B', 'C'], ['A'], ['A', 'C'], ['A', 'B'], ['A', 'B', 'C']]\n"
     ]
    }
   ],
   "source": [
    "# Example usage of the recursive enumeration algorithm\n",
    "print(\"Generate all subsets of set: {A, B, C}:\")\n",
    "print('-'*30)\n",
    "print(f\"The power set:\\n{powerset_recursive(['A', 'B', 'C'])}\")"
   ]
  },
  {
   "cell_type": "markdown",
   "id": "68a7376c",
   "metadata": {},
   "source": [
    "<hr style=\"height:3px; background-color:yellow;\"> \n",
    "\n",
    "### An iterative enumeration algorithm is defined in the following that uses binary numbers:\n",
    "Each subset corresponds to a binary number from $0$ to $2^n−1$, where\n",
    "- 1 = include element\n",
    "- 0 = exclude element   "
   ]
  },
  {
   "cell_type": "code",
   "execution_count": 3,
   "id": "1d6e303e",
   "metadata": {},
   "outputs": [],
   "source": [
    "# Define the iterative enumeration algorithm for power set\n",
    "def powerset_iterative(original_set):\n",
    "    \n",
    "    # Initialize the powerset\n",
    "    powerset=[]\n",
    "    n = len(original_set) \n",
    "    \n",
    "    for i in range(2**n):\n",
    "        subset = [original_set[j] for j in range(n) if (i >> j) & 1]\n",
    "        powerset.append(subset)\n",
    "        \n",
    "    return powerset"
   ]
  },
  {
   "cell_type": "code",
   "execution_count": 4,
   "id": "8a9b4a74",
   "metadata": {},
   "outputs": [
    {
     "name": "stdout",
     "output_type": "stream",
     "text": [
      "Generate all subsets of set: {A, B, C}:\n",
      "------------------------------\n",
      "The power set:\n",
      "[[], ['A'], ['B'], ['A', 'B'], ['C'], ['A', 'C'], ['B', 'C'], ['A', 'B', 'C']]\n"
     ]
    }
   ],
   "source": [
    "# Example usage of the iterative enumeration algorithm\n",
    "print(\"Generate all subsets of set: {A, B, C}:\")\n",
    "print('-'*30)\n",
    "print(f\"The power set:\\n{powerset_iterative(['A', 'B', 'C'])}\")"
   ]
  },
  {
   "cell_type": "markdown",
   "id": "617efe5b",
   "metadata": {},
   "source": [
    "<hr style=\"height:3px; background-color:orange\">\n",
    "\n",
    "### Bonus: Enumerate All Permutations of a Word \n",
    "**Hint:** A permutation here is a rearrangement of the letters in a word."
   ]
  },
  {
   "cell_type": "code",
   "execution_count": 5,
   "id": "7792264b",
   "metadata": {},
   "outputs": [
    {
     "name": "stdout",
     "output_type": "stream",
     "text": [
      "All permutations of NOT:\n",
      "NOT, NTO, ONT, OTN, TNO, TON, "
     ]
    }
   ],
   "source": [
    "# Bonus: Enumerate All Permutations of a Word \n",
    "# Hint: you can make this code better\n",
    "def enumerate_permutations(word, result=\"\"):\n",
    "    # Base case: if no letters left, we have a full permutation\n",
    "    if len(word) == 0:\n",
    "        print(result,end=', ')\n",
    "        return\n",
    "\n",
    "    # Try each letter as the next one\n",
    "    for i in range(len(word)):\n",
    "        # Choose one letter\n",
    "        letter = word[i]\n",
    "        # Remaining letters\n",
    "        remaining = word[:i] + word[i+1:]\n",
    "        # Recurse with this letter added to result\n",
    "        enumerate_permutations(remaining, result + letter)\n",
    "\n",
    "# Example usage\n",
    "word=\"NOT\"\n",
    "print(f\"All permutations of {word}:\")\n",
    "enumerate_permutations(word)"
   ]
  },
  {
   "cell_type": "code",
   "execution_count": null,
   "id": "4ad8cbd6",
   "metadata": {},
   "outputs": [],
   "source": []
  }
 ],
 "metadata": {
  "kernelspec": {
   "display_name": "Python 3 (ipykernel)",
   "language": "python",
   "name": "python3"
  },
  "language_info": {
   "codemirror_mode": {
    "name": "ipython",
    "version": 3
   },
   "file_extension": ".py",
   "mimetype": "text/x-python",
   "name": "python",
   "nbconvert_exporter": "python",
   "pygments_lexer": "ipython3",
   "version": "3.11.1"
  }
 },
 "nbformat": 4,
 "nbformat_minor": 5
}
