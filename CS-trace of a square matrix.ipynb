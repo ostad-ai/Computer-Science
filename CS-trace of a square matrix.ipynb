{
 "cells": [
  {
   "cell_type": "markdown",
   "id": "e253fd3b",
   "metadata": {},
   "source": [
    "# Computer Science\n",
    "## Trace of a square matrix\n",
    "For a square matrix $A$, its trace is defined as the sum of the elements on the main diagonal of $A$:\n",
    "<br>$trace(A)=\\sum_i a_{ii}$\n",
    "<br>For $trace$, we have several properties. Some of them are expressed below:\n",
    "- $trace(A)=trace(A^T)$\n",
    "- $trace(AB)=trace(BA)$\n",
    "- $trace(A+B)=trace(A)+trace(B)$\n",
    "- $trace(cA)=ctrace(A)$\n",
    "- $trace(A)=\\sum_i \\lambda_i$ where $\\lambda_i$ are the eigenvalues of matrix $A$\n",
    "- $trace(A^TB)=trace(AB^T)=trace(B^TA)=trace(BA^T)$\n",
    "\n",
    "In the following, we demonstrate some properties mentioned above by examples in Python code. Aso, we provide a trace function from scratch.\n",
    "<br> The **Python** code is at: https://github.com/ostad-ai/Computer-Science\n",
    "<br> Explanation in **English** at: https://www.pinterest.com/HamedShahHosseini/computer-science/background-knowledge/"
   ]
  },
  {
   "cell_type": "code",
   "execution_count": 1,
   "id": "9b12407c",
   "metadata": {},
   "outputs": [],
   "source": [
    "# import required modules\n",
    "import numpy as np"
   ]
  },
  {
   "cell_type": "code",
   "execution_count": 2,
   "id": "c68d2202",
   "metadata": {},
   "outputs": [
    {
     "name": "stdout",
     "output_type": "stream",
     "text": [
      "-----The matrix A is:\n",
      "[[1 2 3]\n",
      " [4 5 6]\n",
      " [7 8 9]] \n",
      "-----The trace of matrix A: 15\n",
      "-----The sum of eigenvalues of the matrix A:14.999999999999998\n",
      "-----The trace of matrix A.T: 15\n",
      "The trace of matrix A*B: -261\n",
      "The trace of matrix B*A: -261\n",
      "------------\n",
      "The trace of A.T*B: -285\n",
      "The trace of A*B.T: -285\n",
      "The trace of B*A.T: -285\n",
      "The trace of B.T*A: -285\n"
     ]
    }
   ],
   "source": [
    "# example\n",
    "# the matrices\n",
    "A=np.array([[1,2,3],[4,5,6],[7,8,9]])\n",
    "B=np.array([[-1,-2,-3],[-4,-5,-6],[-7,-8,-9]])\n",
    "print(f'-----The matrix A is:\\n{A} ')\n",
    "print(f'-----The trace of matrix A:',np.trace(A))\n",
    "#relation of trace with eigenvalues\n",
    "eigs=np.linalg.eigvals(A)\n",
    "print(f'-----The sum of eigenvalues of the matrix A:{np.sum(eigs)}')\n",
    "print(f'-----The trace of matrix A.T: {np.trace(A.T)}')\n",
    "#cheching the commutativity of trace\n",
    "print(f'The trace of matrix A*B: {np.trace(A@B)}')\n",
    "print(f'The trace of matrix B*A: {np.trace(B@A)}')\n",
    "print('------------')\n",
    "print(f'The trace of A.T*B: {np.trace(A.T@B)}')\n",
    "print(f'The trace of A*B.T: {np.trace(A@B.T)}')\n",
    "print(f'The trace of B*A.T: {np.trace(B@A.T)}')\n",
    "print(f'The trace of B.T*A: {np.trace(B.T@A)}')"
   ]
  },
  {
   "cell_type": "markdown",
   "id": "71d0d77d",
   "metadata": {},
   "source": [
    "In the following code, we implement the $trace$ from scratch"
   ]
  },
  {
   "cell_type": "code",
   "execution_count": 3,
   "id": "fd5f80c0",
   "metadata": {},
   "outputs": [
    {
     "name": "stdout",
     "output_type": "stream",
     "text": [
      "The trace of matrix A by the function from scratch: 15 \n"
     ]
    }
   ],
   "source": [
    "#implementing the trace of a square matrix from scratch:\n",
    "def tr(A):\n",
    "    n=A.shape[0]\n",
    "    trA=0\n",
    "    for i in range(n):\n",
    "        trA+=A[i,i]\n",
    "    return trA\n",
    "print(f'The trace of matrix A by the function from scratch: {tr(A)} ')"
   ]
  },
  {
   "cell_type": "code",
   "execution_count": null,
   "id": "ec2acf2c",
   "metadata": {},
   "outputs": [],
   "source": []
  }
 ],
 "metadata": {
  "kernelspec": {
   "display_name": "Python 3 (ipykernel)",
   "language": "python",
   "name": "python3"
  },
  "language_info": {
   "codemirror_mode": {
    "name": "ipython",
    "version": 3
   },
   "file_extension": ".py",
   "mimetype": "text/x-python",
   "name": "python",
   "nbconvert_exporter": "python",
   "pygments_lexer": "ipython3",
   "version": "3.11.1"
  }
 },
 "nbformat": 4,
 "nbformat_minor": 5
}
