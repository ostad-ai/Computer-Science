{
 "cells": [
  {
   "cell_type": "markdown",
   "id": "4bdf378c",
   "metadata": {},
   "source": [
    "### Computer Science: Computing inverse of a matrix by the cofactor matrix in Python\n",
    "$A^{-1}=\\frac{C^{T}}{det(A)}$\n",
    "###### by Hamed Shah-Hosseini\n",
    "Explanation at: https://www.pinterest.com/HamedShahHosseini/\n",
    "<br>https://github.com/ostad-ai/Computer-Science"
   ]
  },
  {
   "cell_type": "code",
   "execution_count": 2,
   "id": "9b6c55a4",
   "metadata": {},
   "outputs": [],
   "source": [
    "import numpy as np"
   ]
  },
  {
   "cell_type": "code",
   "execution_count": 108,
   "id": "119724b6",
   "metadata": {},
   "outputs": [],
   "source": [
    "#-- This was introduced in an earlier post\n",
    "#--Computing determinant by converting \n",
    "#--the matrix C to to an upper triangular one\n",
    "def det(C):\n",
    "    A=C.copy().astype('float64')\n",
    "    n=A.shape[0]\n",
    "    signChange=1\n",
    "    for ii in range(n-1):\n",
    "        if A[ii,ii]==0:\n",
    "            flag=False\n",
    "            for j in range(ii+1,n):\n",
    "                if A[j,ii]!=0:\n",
    "                    A[ii],A[j]=A[j].copy(),A[ii].copy()\n",
    "                    flag=True; signChange*=-1\n",
    "                    break \n",
    "            if flag is False:\n",
    "                continue\n",
    "        for j in range(ii+1,n):\n",
    "            if A[j,ii]!=0:\n",
    "                landa=A[j,ii]/A[ii,ii]\n",
    "                A[j,ii:]=A[j,ii:]-landa*A[ii,ii:]\n",
    "    product=signChange\n",
    "    for ii in range(n):\n",
    "        product*=A[ii,ii]\n",
    "    return product,A"
   ]
  },
  {
   "cell_type": "code",
   "execution_count": 118,
   "id": "6d6976ae",
   "metadata": {},
   "outputs": [],
   "source": [
    "# Computes the cofactor matrix\n",
    "def cofactor_matrix(A):\n",
    "    detA=det(A)[0]\n",
    "    if detA==0: # it is singular \n",
    "        return None\n",
    "    n=A.shape[0]\n",
    "    C=np.zeros_like(A).astype('float')\n",
    "    for i in range(n):\n",
    "        for j in range(n):\n",
    "            rx=list(range(i))+list(range(i+1,n))\n",
    "            ry=list(range(j))+list(range(j+1,n))\n",
    "            Aij=A[np.ix_(rx,ry)]\n",
    "            C[i,j]=((-1)**(i+j))*det(Aij)[0]\n",
    "    return C\n",
    "\n",
    "# Getting the inverse\n",
    "def inverse_matrix(A):\n",
    "    detA=det(A)[0]\n",
    "    if detA==0: # it is singular \n",
    "        return None\n",
    "    return cofactor_matrix(A).T/detA"
   ]
  },
  {
   "cell_type": "code",
   "execution_count": 110,
   "id": "192e8ae0",
   "metadata": {},
   "outputs": [
    {
     "name": "stdout",
     "output_type": "stream",
     "text": [
      "m_inv*m==I? True\n"
     ]
    }
   ],
   "source": [
    "# Example: we get the inverse\n",
    "m=np.array(np.random.randint(2,5,25)).reshape(5,5)\n",
    "m_inv=inverse_matrix(m)\n",
    "if m_inv is not None:\n",
    "    # we check if (m_inv*m) is Identity or not\n",
    "    print('m_inv*m==I?',\n",
    "    np.allclose(np.dot(m_inv,m),np.eye(m.shape[0])))"
   ]
  },
  {
   "cell_type": "code",
   "execution_count": 111,
   "id": "4f3dff24",
   "metadata": {},
   "outputs": [
    {
     "name": "stdout",
     "output_type": "stream",
     "text": [
      "[[ 1.  0.  0.  0.  0.]\n",
      " [ 0.  1.  0.  0.  0.]\n",
      " [ 0.  0.  1.  0.  0.]\n",
      " [-0. -0. -0.  1. -0.]\n",
      " [-0. -0. -0. -0.  1.]]\n"
     ]
    }
   ],
   "source": [
    "# Rounding the values up to 10 decimals\n",
    "print(np.round(np.dot(m_inv,m),10))"
   ]
  },
  {
   "cell_type": "code",
   "execution_count": 115,
   "id": "dacde6cf",
   "metadata": {},
   "outputs": [
    {
     "name": "stdout",
     "output_type": "stream",
     "text": [
      "The matrix:\n",
      " [[3 2 4 4 3]\n",
      " [4 3 2 2 3]\n",
      " [3 3 4 4 3]\n",
      " [3 4 3 2 3]\n",
      " [2 3 4 4 2]]\n",
      "The inverse of matrix:\n",
      " [[ 1.5   1.   -3.5  -0.    1.5 ]\n",
      " [-1.    0.    1.    0.    0.  ]\n",
      " [ 2.5   0.   -4.5   1.    1.5 ]\n",
      " [-1.75 -0.    3.25 -1.   -0.75]\n",
      " [-1.5  -1.    4.5  -0.   -2.5 ]]\n"
     ]
    }
   ],
   "source": [
    "print('The matrix:\\n',m)\n",
    "print('The inverse of matrix:\\n',m_inv)"
   ]
  },
  {
   "cell_type": "code",
   "execution_count": null,
   "id": "5733dcc0",
   "metadata": {},
   "outputs": [],
   "source": []
  }
 ],
 "metadata": {
  "kernelspec": {
   "display_name": "Python 3 (ipykernel)",
   "language": "python",
   "name": "python3"
  },
  "language_info": {
   "codemirror_mode": {
    "name": "ipython",
    "version": 3
   },
   "file_extension": ".py",
   "mimetype": "text/x-python",
   "name": "python",
   "nbconvert_exporter": "python",
   "pygments_lexer": "ipython3",
   "version": "3.8.10"
  }
 },
 "nbformat": 4,
 "nbformat_minor": 5
}
